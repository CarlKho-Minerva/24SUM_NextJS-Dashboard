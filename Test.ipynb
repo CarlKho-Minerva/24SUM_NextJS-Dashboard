{
 "cells": [
  {
   "cell_type": "code",
   "execution_count": 1,
   "metadata": {},
   "outputs": [],
   "source": [
    "# must print each line\n",
    "\n",
    "def fizzBuzz(n):\n",
    "    for i in range(1, n+1):\n",
    "        if i % 3 == 0 and i % 5 == 0:\n",
    "            print('FizzBuzz')\n",
    "        elif i % 3 == 0:\n",
    "            print('Fizz')\n",
    "        elif i % 5 == 0:\n",
    "            print('Buzz')\n",
    "        else:\n",
    "            print(i)\n"
   ]
  },
  {
   "cell_type": "code",
   "execution_count": 3,
   "metadata": {},
   "outputs": [
    {
     "name": "stdout",
     "output_type": "stream",
     "text": [
      "1\n",
      "2\n",
      "Fizz\n",
      "4\n",
      "Buzz\n",
      "Fizz\n",
      "7\n",
      "8\n",
      "Fizz\n",
      "Buzz\n",
      "11\n",
      "Fizz\n",
      "13\n",
      "14\n",
      "FizzBuzz\n"
     ]
    }
   ],
   "source": [
    "fizzBuzz(15)"
   ]
  },
  {
   "cell_type": "markdown",
   "metadata": {},
   "source": [
    "Given a number n, for each integer i in the range\n",
    "from 1 to n inclusive, print one value per line as\n",
    "follows:\n",
    "• If i is a multiple of both 3 and 5, print FizzBuzz.\n",
    "• If /is a multiple of 3 (but not 5), print Fizz.\n",
    "• If i is a multiple of 5 (but not 3), print Buzz.\n",
    "• If i is not a multiple of 3 or 5, print the value of i.\n",
    "Function Description\n",
    "Complete the function fizzBuzz in the editor\n",
    "below.\n",
    "fizzBuzz has the following parameter(s):\n",
    "int n: upper limit of values to test (inclusive)\n",
    "Returns: NONE\n",
    "Prints:\n",
    "The function must print the appropriate\n",
    "response for each value i in the set {1, 2, ... n} in\n",
    "ascending order, each on a separate line."
   ]
  }
 ],
 "metadata": {
  "kernelspec": {
   "display_name": "Python 3",
   "language": "python",
   "name": "python3"
  },
  "language_info": {
   "codemirror_mode": {
    "name": "ipython",
    "version": 3
   },
   "file_extension": ".py",
   "mimetype": "text/x-python",
   "name": "python",
   "nbconvert_exporter": "python",
   "pygments_lexer": "ipython3",
   "version": "3.11.4"
  }
 },
 "nbformat": 4,
 "nbformat_minor": 2
}
